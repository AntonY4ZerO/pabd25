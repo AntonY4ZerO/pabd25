{
 "cells": [
  {
   "cell_type": "code",
   "execution_count": 1,
   "id": "8603b172",
   "metadata": {
    "vscode": {
     "languageId": "plaintext"
    }
   },
   "outputs": [
    {
     "name": "stderr",
     "output_type": "stream",
     "text": [
      "2025-04-30 20:03:29,151 - INFO - Среднеквадратичная ошибка (MSE): 280870607156726.22\n",
      "2025-04-30 20:03:29,158 - INFO - Корень из MSE (RMSE): 16759194.70\n",
      "2025-04-30 20:03:29,158 - INFO - Коэффициент детерминации R²: 0.565437\n",
      "2025-04-30 20:03:29,164 - INFO - Средняя абсолютная ошибка (MAE): 12684828.84 рублей\n",
      "2025-04-30 20:03:29,167 - INFO - Коэффициент при площади: 656578.25\n",
      "2025-04-30 20:03:29,170 - INFO - Свободный член (intercept): -5411340.99\n",
      "2025-04-30 20:03:29,180 - INFO - Модель сохранена: models/linear_regression_model.pkl\n"
     ]
    }
   ],
   "source": [
    "import pandas as pd\n",
    "import numpy as np\n",
    "import os\n",
    "import joblib\n",
    "import logging\n",
    "from sklearn.model_selection import train_test_split\n",
    "from sklearn.linear_model import LinearRegression\n",
    "from sklearn.metrics import mean_squared_error, r2_score\n",
    "from sklearn.preprocessing import StandardScaler\n",
    "\n",
    "# Настройка логгера\n",
    "os.makedirs('logs', exist_ok=True)\n",
    "logging.basicConfig(\n",
    "    level=logging.INFO,\n",
    "    format='%(asctime)s - %(levelname)s - %(message)s',\n",
    "    handlers=[\n",
    "        logging.FileHandler('logs/train_metrics.log', encoding='utf-8'),\n",
    "        logging.StreamHandler()\n",
    "    ]\n",
    ")\n",
    "\n",
    "# Загрузка данных\n",
    "data = pd.read_csv(\"C:/Users/aziny/VSProjects/pabd25/pabd25/data/processed/merged_cleaned.csv\")\n",
    "\n",
    "# Удаление пропусков (если есть)\n",
    "data = data.dropna(subset=['total_meters', 'price'])\n",
    "\n",
    "# Стандартизация площади\n",
    "#scaler = StandardScaler()\n",
    "#data['total_meters'] = scaler.fit_transform(data[['total_meters']])\n",
    "\n",
    "# Разделение данных\n",
    "X = data[['total_meters']]\n",
    "y = data['price']\n",
    "X_train, X_test, y_train, y_test = train_test_split(\n",
    "    X, y, test_size=0.2, random_state=42\n",
    ")\n",
    "\n",
    "# Обучение модели\n",
    "model = LinearRegression()\n",
    "model.fit(X_train, y_train)\n",
    "\n",
    "# Предсказание\n",
    "y_pred = model.predict(X_test)\n",
    "\n",
    "# Метрики\n",
    "mse = mean_squared_error(y_test, y_pred)\n",
    "rmse = np.sqrt(mse)\n",
    "r2 = r2_score(y_test, y_pred)\n",
    "mae = np.mean(np.abs(y_test - y_pred))\n",
    "\n",
    "# Логирование метрик\n",
    "logging.info(f\"Среднеквадратичная ошибка (MSE): {mse:.2f}\")\n",
    "logging.info(f\"Корень из MSE (RMSE): {rmse:.2f}\")\n",
    "logging.info(f\"Коэффициент детерминации R²: {r2:.6f}\")\n",
    "logging.info(f\"Средняя абсолютная ошибка (MAE): {mae:.2f} рублей\")\n",
    "logging.info(f\"Коэффициент при площади: {model.coef_[0]:.2f}\")\n",
    "logging.info(f\"Свободный член (intercept): {model.intercept_:.2f}\")\n",
    "\n",
    "# Сохранение модели и scaler\n",
    "os.makedirs('models', exist_ok=True)\n",
    "model_path = 'models/linear_regression_model.pkl'\n",
    "#scaler_path = 'models/scaler.pkl'\n",
    "\n",
    "joblib.dump(model, model_path)\n",
    "#joblib.dump(scaler, scaler_path)\n",
    "\n",
    "logging.info(f\"Модель сохранена: {model_path}\")\n",
    "#logging.info(f\"Scaler сохранён: {scaler_path}\")\n",
    "\n",
    "# Загрузка и тест предсказания\n",
    "loaded_model = joblib.load(model_path)\n",
    "#loaded_scaler = joblib.load(scaler_path)"
   ]
  },
  {
   "cell_type": "code",
   "execution_count": 2,
   "id": "8301f0fa",
   "metadata": {},
   "outputs": [
    {
     "data": {
      "text/plain": [
       "array([55125173.56412344, 53812017.06618121, 46458340.67770474,\n",
       "       22821523.71474465, 17503239.89807862, 20057329.28657626,\n",
       "       75873046.23161063, 14286006.47812017, 78302385.75280376,\n",
       "       15599162.97606239, 47377550.2262643 , 57291881.78572811,\n",
       "       15599162.97606239, 19079027.69560929, 53680701.41638699,\n",
       "       60903062.15506924, 33458091.34807669, 15599162.97606239,\n",
       "       47114918.92667586, 21508367.21680242, 37266245.19210915,\n",
       "       42387555.53408383, 22887181.53964176, 15599162.97606239,\n",
       "       20195210.71886019, 78368043.57770087, 20851788.96783131,\n",
       "       55650436.16330033, 13629428.22914905, 22887181.53964176,\n",
       "       26760993.20857133, 40155189.48758205, 27089282.33305689,\n",
       "       24331653.68737821, 22821523.71474465, 15270873.85157684,\n",
       "       25250863.23593777, 60903062.15506924, 23346786.31392153,\n",
       "       17306266.42338729, 35887430.86926981, 17634555.54787285,\n",
       "       24069022.38778976, 22164945.46577353, 50594783.64622276,\n",
       "       19735605.94458041,  9387932.74079566, 22230603.29067064,\n",
       "       34902563.49581314, 21836656.34128797, 16977977.29890173,\n",
       "       48625048.89930941, 45801762.42873362, 37594534.3165947 ,\n",
       "       12053640.43161838, 38579401.69005138, 23018497.18943598,\n",
       "       55519120.51350611, 24134680.21268687, 19472974.64499196,\n",
       "       37660192.14149181, 42518871.18387806, 64842531.64889592,\n",
       "       25841783.66001177, 24069022.38778976, 22493234.59025909,\n",
       "       30043884.4534269 , 47771497.17564697, 34639932.19622469,\n",
       "       34836905.67091602, 21508367.21680242, 27680202.75713089,\n",
       "       46392682.85280763, 57751486.56000789, 16255741.22503351,\n",
       "       40680452.08675894])"
      ]
     },
     "execution_count": 2,
     "metadata": {},
     "output_type": "execute_result"
    }
   ],
   "source": [
    "y_pred"
   ]
  },
  {
   "cell_type": "code",
   "execution_count": 3,
   "id": "14c6c71d",
   "metadata": {},
   "outputs": [
    {
     "name": "stdout",
     "output_type": "stream",
     "text": [
      "Введите площадь квартиры в м²: 32\n",
      "Предсказанная цена квартиры площадью 32.0 м²: 15,599,163 ₽\n"
     ]
    }
   ],
   "source": [
    "import pandas as pd\n",
    "import joblib\n",
    "\n",
    "# Загрузка обученной модели и scaler\n",
    "model = joblib.load('models/linear_regression_model.pkl')\n",
    "#scaler = joblib.load('models/scaler.pkl')\n",
    "\n",
    "# Ввод от пользователя\n",
    "try:\n",
    "    user_input = float(input(\"Введите площадь квартиры в м²: \"))\n",
    "    if user_input <= 0:\n",
    "        raise ValueError(\"Площадь должна быть положительным числом.\")\n",
    "\n",
    "    # Подготовка и масштабирование данных\n",
    "    input_df = pd.DataFrame({'total_meters': [user_input]})\n",
    "    #input_scaled = scaler.transform(input_df)\n",
    "\n",
    "    # Предсказание\n",
    "    predicted_price = model.predict(input_df)[0]\n",
    "    print(f\"Предсказанная цена квартиры площадью {user_input} м²: {predicted_price:,.0f} ₽\")\n",
    "\n",
    "except ValueError as e:\n",
    "    print(f\"Ошибка ввода: {e}\")"
   ]
  },
  {
   "cell_type": "markdown",
   "id": "6c0b4ad3",
   "metadata": {},
   "source": [
    "# 4 признака"
   ]
  },
  {
   "cell_type": "code",
   "execution_count": 6,
   "id": "9ffbb61b",
   "metadata": {},
   "outputs": [
    {
     "name": "stderr",
     "output_type": "stream",
     "text": [
      "2025-05-07 19:02:09,197 - INFO - Среднеквадратичная ошибка (MSE): 283664924742693.31\n",
      "2025-05-07 19:02:09,200 - INFO - Корень из MSE (RMSE): 16842355.08\n",
      "2025-05-07 19:02:09,202 - INFO - Коэффициент детерминации R²: 0.561114\n",
      "2025-05-07 19:02:09,204 - INFO - Средняя абсолютная ошибка (MAE): 12386192.68 рублей\n",
      "2025-05-07 19:02:09,208 - INFO - Коэффициент при площади: 648248.73\n",
      "2025-05-07 19:02:09,210 - INFO - Свободный член (intercept): -9240029.75\n",
      "2025-05-07 19:02:09,215 - INFO - Модель сохранена: ../models/linear_regression_model_v2.pkl\n"
     ]
    }
   ],
   "source": [
    "import pandas as pd\n",
    "import numpy as np\n",
    "import os\n",
    "import joblib\n",
    "import logging\n",
    "from sklearn.model_selection import train_test_split\n",
    "from sklearn.linear_model import LinearRegression\n",
    "from sklearn.metrics import mean_squared_error, r2_score\n",
    "from sklearn.preprocessing import StandardScaler\n",
    "\n",
    "# Настройка логгера\n",
    "os.makedirs('logs', exist_ok=True)\n",
    "logging.basicConfig(\n",
    "    level=logging.INFO,\n",
    "    format='%(asctime)s - %(levelname)s - %(message)s',\n",
    "    handlers=[\n",
    "        logging.FileHandler('logs/train_metrics.log', encoding='utf-8'),\n",
    "        logging.StreamHandler()\n",
    "    ]\n",
    ")\n",
    "\n",
    "# Загрузка данных\n",
    "data = pd.read_csv(\"C:/Users/aziny/VSProjects/pabd25/pabd25/data/processed/merged_cleaned.csv\")\n",
    "\n",
    "# Удаление пропусков (если есть)\n",
    "data = data.dropna(subset=['total_meters', 'floor', 'floors_count', 'rooms_count', 'price'])\n",
    "\n",
    "# Разделение данных\n",
    "X = data[['total_meters', 'floor', 'floors_count', 'rooms_count']]\n",
    "y = data['price']\n",
    "X_train, X_test, y_train, y_test = train_test_split(\n",
    "    X, y, test_size=0.2, random_state=42\n",
    ")\n",
    "\n",
    "# Обучение модели\n",
    "model = LinearRegression()\n",
    "model.fit(X_train, y_train)\n",
    "\n",
    "# Предсказание\n",
    "y_pred = model.predict(X_test)\n",
    "\n",
    "# Метрики\n",
    "mse = mean_squared_error(y_test, y_pred)\n",
    "rmse = np.sqrt(mse)\n",
    "r2 = r2_score(y_test, y_pred)\n",
    "mae = np.mean(np.abs(y_test - y_pred))\n",
    "\n",
    "# Логирование метрик\n",
    "logging.info(f\"Среднеквадратичная ошибка (MSE): {mse:.2f}\")\n",
    "logging.info(f\"Корень из MSE (RMSE): {rmse:.2f}\")\n",
    "logging.info(f\"Коэффициент детерминации R²: {r2:.6f}\")\n",
    "logging.info(f\"Средняя абсолютная ошибка (MAE): {mae:.2f} рублей\")\n",
    "logging.info(f\"Коэффициент при площади: {model.coef_[0]:.2f}\")\n",
    "logging.info(f\"Свободный член (intercept): {model.intercept_:.2f}\")\n",
    "\n",
    "# Сохранение модели и scaler\n",
    "os.makedirs('models', exist_ok=True)\n",
    "model_path = '../models/linear_regression_model_v2.pkl'\n",
    "\n",
    "joblib.dump(model, model_path)\n",
    "\n",
    "logging.info(f\"Модель сохранена: {model_path}\")"
   ]
  },
  {
   "cell_type": "code",
   "execution_count": 10,
   "id": "301320b2",
   "metadata": {},
   "outputs": [
    {
     "name": "stdout",
     "output_type": "stream",
     "text": [
      "Введите площадь квартиры (м²): 40\n",
      "Введите этаж квартиры: 10\n",
      "Введите общее количество этажей в доме: 15\n",
      "Введите количество комнат: 2\n",
      "\n",
      "Предсказанная цена квартиры: 20,908,872 ₽\n"
     ]
    }
   ],
   "source": [
    "import pandas as pd\n",
    "import joblib\n",
    "\n",
    "# Загрузка обученной модели\n",
    "model = joblib.load('../models/linear_regression_model_v2.pkl')\n",
    "\n",
    "try:\n",
    "    # Ввод данных от пользователя\n",
    "    total_meters = float(input(\"Введите площадь квартиры (м²): \"))\n",
    "    floor = int(input(\"Введите этаж квартиры: \"))\n",
    "    floors_count = int(input(\"Введите общее количество этажей в доме: \"))\n",
    "    rooms_count = int(input(\"Введите количество комнат: \"))\n",
    "\n",
    "    # Валидация данных\n",
    "    if total_meters <= 0 or floor <= 0 or floors_count <= 0 or rooms_count <= 0:\n",
    "        raise ValueError(\"Все значения должны быть положительными числами.\")\n",
    "    if floor > floors_count:\n",
    "        raise ValueError(\"Этаж квартиры не может быть выше общего количества этажей.\")\n",
    "    if not (1 <= rooms_count <= 4):\n",
    "        raise ValueError(\"Количество комнат должно быть от 1 до 4.\")\n",
    "\n",
    "    # Подготовка данных\n",
    "    input_df = pd.DataFrame([{\n",
    "        'total_meters': total_meters,\n",
    "        'floor': floor,\n",
    "        'floors_count': floors_count,\n",
    "        'rooms_count': rooms_count\n",
    "    }])\n",
    "\n",
    "    # Предсказание\n",
    "    predicted_price = model.predict(input_df)[0]\n",
    "    print(f\"\\nПредсказанная цена квартиры: {predicted_price:,.0f} ₽\")\n",
    "\n",
    "except ValueError as e:\n",
    "    print(f\"\\nОшибка ввода: {e}\")\n",
    "except Exception as e:\n",
    "    print(f\"\\nПроизошла ошибка: {e}\")\n"
   ]
  }
 ],
 "metadata": {
  "kernelspec": {
   "display_name": "Python 3 (ipykernel)",
   "language": "python",
   "name": "python3"
  },
  "language_info": {
   "codemirror_mode": {
    "name": "ipython",
    "version": 3
   },
   "file_extension": ".py",
   "mimetype": "text/x-python",
   "name": "python",
   "nbconvert_exporter": "python",
   "pygments_lexer": "ipython3",
   "version": "3.10.9"
  }
 },
 "nbformat": 4,
 "nbformat_minor": 5
}
